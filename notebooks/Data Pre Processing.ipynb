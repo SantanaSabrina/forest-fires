{
 "cells": [
  {
   "cell_type": "markdown",
   "metadata": {},
   "source": [
    "# Data Pre Processing\n",
    "\n",
    "After viewing our EDA we will be needing to create a few modifications to our data set in order to prepare it for our modeling."
   ]
  },
  {
   "cell_type": "code",
   "execution_count": 1022,
   "metadata": {},
   "outputs": [],
   "source": [
    "import pandas as pd\n",
    "import numpy as np\n",
    "from scipy import stats\n",
    "from scipy.stats import zscore\n",
    "\n",
    "from sklearn.preprocessing import MinMaxScaler\n",
    "\n",
    "\n",
    "datafile = pd.read_csv(\"../data/processed/fires.csv\")"
   ]
  },
  {
   "cell_type": "markdown",
   "metadata": {},
   "source": [
    "# Filtering Out Extreme Outliers\n",
    "\n",
    "As we observed from the Data Exploration, there are many outliers that can make our Data Set unfit for our linear regression model. In this step we will be verifying each column for their outliers and filtering them out of the data frame through the usage of the z-score"
   ]
  },
  {
   "cell_type": "code",
   "execution_count": 1023,
   "metadata": {},
   "outputs": [
    {
     "name": "stdout",
     "output_type": "stream",
     "text": [
      "Outliers: 237     212.88\n",
      "238    1090.84\n",
      "415     746.28\n",
      "479     278.53\n",
      "Name: area, dtype: float64\n"
     ]
    }
   ],
   "source": [
    "z_scores = stats.zscore(datafile['area'])\n",
    "\n",
    "outliers = (z_scores > 3) | (z_scores < -3)\n",
    "\n",
    "print(\"Outliers:\", datafile['area'][outliers])\n",
    "\n",
    "datafile = datafile[~outliers]"
   ]
  },
  {
   "cell_type": "code",
   "execution_count": 1024,
   "metadata": {},
   "outputs": [
    {
     "name": "stdout",
     "output_type": "stream",
     "text": [
      "Outliers: 3       97\n",
      "4       99\n",
      "211     96\n",
      "304     94\n",
      "379    100\n",
      "Name: RH, dtype: int64\n"
     ]
    }
   ],
   "source": [
    "z_scores = stats.zscore(datafile['RH'])\n",
    "\n",
    "outliers_rh = (z_scores > 3) | (z_scores < -3)\n",
    "\n",
    "print(\"Outliers:\", datafile['RH'][outliers_rh])\n",
    "\n",
    "datafile = datafile[~outliers_rh]"
   ]
  },
  {
   "cell_type": "code",
   "execution_count": 1025,
   "metadata": {},
   "outputs": [
    {
     "name": "stdout",
     "output_type": "stream",
     "text": [
      "Outliers: 22     56.1\n",
      "266    22.7\n",
      "Name: ISI, dtype: float64\n"
     ]
    }
   ],
   "source": [
    "z_scores = stats.zscore(datafile['ISI'])\n",
    "\n",
    "outliers_rh = (z_scores > 3) | (z_scores < -3)\n",
    "\n",
    "print(\"Outliers:\", datafile['ISI'][outliers_rh])\n",
    "\n",
    "datafile = datafile[~outliers_rh]"
   ]
  },
  {
   "cell_type": "code",
   "execution_count": 1026,
   "metadata": {},
   "outputs": [
    {
     "name": "stdout",
     "output_type": "stream",
     "text": [
      "Outliers: 61      5.5\n",
      "75      6.7\n",
      "104     5.3\n",
      "165     5.3\n",
      "176     5.8\n",
      "196     5.8\n",
      "273     4.8\n",
      "274     5.1\n",
      "275     5.1\n",
      "276     4.6\n",
      "277     4.6\n",
      "278     4.6\n",
      "279     4.6\n",
      "280     2.2\n",
      "281     5.1\n",
      "282     4.2\n",
      "394     5.3\n",
      "463     4.6\n",
      "464     5.1\n",
      "465     4.6\n",
      "484    33.1\n",
      "491    32.4\n",
      "492    32.4\n",
      "496    32.6\n",
      "497    32.3\n",
      "498    33.3\n",
      "Name: temp, dtype: float64\n"
     ]
    }
   ],
   "source": [
    "z_scores = stats.zscore(datafile['temp'])\n",
    "\n",
    "outliers_rh = (z_scores > 2.1) | (z_scores < -2.1)\n",
    "\n",
    "print(\"Outliers:\", datafile['temp'][outliers_rh])\n",
    "\n",
    "datafile = datafile[~outliers_rh]"
   ]
  },
  {
   "cell_type": "markdown",
   "metadata": {},
   "source": [
    "# Filtering Out Columns\n",
    "\n",
    "Due to the column \"month\" being a string we will need to drop it for our linear regression. The Linear Regression will need to convert the values into floats and strings cannot be converted to floats. In the data exploration through the heatmap we were also able to see multicollinearity which may affect how the data frame would fit into the linear regression model so we will be dropping columns that also demonstrate that multicollinearity with other variables."
   ]
  },
  {
   "cell_type": "code",
   "execution_count": 1027,
   "metadata": {},
   "outputs": [],
   "source": [
    "df_processed = datafile.drop('month', axis=1).drop(\"X\", axis=1).drop(\"Y\", axis= 1).drop(\"FFMC\", axis=1).drop(\"month_numerical\", axis=1)\n"
   ]
  },
  {
   "cell_type": "code",
   "execution_count": 1028,
   "metadata": {},
   "outputs": [],
   "source": [
    "scaler = MinMaxScaler()\n",
    "\n",
    "datafile[['DMC', 'DC', 'ISI', 'temp', 'RH', 'wind', 'rain', 'area']] = scaler.fit_transform(datafile[['DMC', 'DC', 'ISI', 'temp', 'RH', 'wind', 'rain', 'area']])\n",
    "\n",
    "df_processed = datafile.drop('month', axis=1).drop(\"X\", axis=1).drop(\"Y\", axis= 1).drop(\"FFMC\", axis=1).drop(\"month_numerical\", axis=1)\n",
    "\n"
   ]
  },
  {
   "cell_type": "code",
   "execution_count": 1029,
   "metadata": {},
   "outputs": [],
   "source": [
    "# save data for later modeling\n",
    "df_processed.to_csv(\"../data/processed/processed_fires.csv\", index= False)"
   ]
  }
 ],
 "metadata": {
  "kernelspec": {
   "display_name": "phase1",
   "language": "python",
   "name": "python3"
  },
  "language_info": {
   "codemirror_mode": {
    "name": "ipython",
    "version": 3
   },
   "file_extension": ".py",
   "mimetype": "text/x-python",
   "name": "python",
   "nbconvert_exporter": "python",
   "pygments_lexer": "ipython3",
   "version": "3.9.18"
  }
 },
 "nbformat": 4,
 "nbformat_minor": 2
}
